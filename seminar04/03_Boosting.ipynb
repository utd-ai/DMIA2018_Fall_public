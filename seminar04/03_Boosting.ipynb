{
 "cells": [
  {
   "cell_type": "markdown",
   "metadata": {},
   "source": [
    "# Градиентный бустинг"
   ]
  },
  {
   "cell_type": "markdown",
   "metadata": {},
   "source": [
    "В задаче машинного обучения нам нужно оптимизировать функцию потерь $\\sum_{i=1}^n L(a(x_i), y_i)$, где $L(\\hat{y}, y)$ – функция потерь на одном объекте.\n",
    "\n",
    "Предположим, что алгоритм $a$ это линейная коминация других алгоритмов: $a(x) = \\sum_{t=1}^T a_t(x)$.\n",
    "\n",
    "Зададимся вопросом: а что если мы хотим добавить ещё один алгоритм в эту комбинацию, но не просто добавить, а как можно оптимальнее с точки зрения исходной оптимизационной задачи. Тоесть уже есть какой-то алгоритм $a(x)$ и мы хотим прибавить к нему алгоритм $a_{T+1}(x)$:\n",
    "\n",
    "$$\\sum_{i=1}^n L(a(x_i) + a_{T+1}(x_i), y_i) \\to \\min_{a_{T+1}}$$\n",
    "\n",
    "Допустим, что $a_{T+1}(x_i)$ достаточно малы, тогда можно приблизить исходную формулу, разложив еёв ряд Тейлора до первого члена:\n",
    "\n",
    "\n",
    "$\\frac{\\partial{L}(a(x_i), y_i))}{\\partial{a}}$\n",
    "\n",
    "$$\\sum_{i=1}^n L(a(x_i), y_i) + \\sum_{i=1}^n \\frac{\\partial{L}}{\\partial{\\hat{y}}}(a(x_i), y_i)) \\cdot a_{T+1}(x_i) \\to \\min_{a_{T+1}}$$\n",
    "\n",
    "Первое слагаемое от $a_{T+1}$ не зависит, поэтому получается:\n",
    "\n",
    "$$\\sum_{i=1}^n \\frac{\\partial{L}}{\\partial{\\hat{y}}}(a(x_i), y_i)) \\cdot a_{T+1}(x_i) \\to \\min_{a_{T+1}}$$\n",
    "\n",
    "Чтобы минимизировать данное выражение требуется, чтобы вектор $\\{a_{T+1}(x_i)\\}_{i=1}^n$ был максимально похож на вектор $\\{- \\frac{\\partial{L}}{\\partial{\\hat{y}}}(a(x_i), y_i))\\}_{i=1}^n$, то есть антиградиент фунции $L(\\hat{y}, y)$ на выборке.\n",
    "\n",
    "Если $a_{T+1}$ это обучаемый алгоритм, то мы можем обучить его по $x_i$ предсказывать не исходный таргет, но $- \\frac{\\partial{L}}{\\partial{\\hat{y}}}(a(x_i), y_i))$, тем самым алгоритм будет похож на антиградиент по построению.\n",
    "\n",
    "Таким образом, можно подобрать неплохое улучшение текущего алгоритма $a(x)$, а потом ещё раз и ещё, в итоге получив комбинацию алгоритмов, которая будет минимизировать исходный функционал."
   ]
  },
  {
   "cell_type": "markdown",
   "metadata": {},
   "source": [
    "# Бустинг над решающими деревьями\n",
    "\n",
    "Наиболее популярное семейство алгоритмов для бустинга это деревья. Рассмотрим популярные библиотеки"
   ]
  },
  {
   "cell_type": "code",
   "execution_count": 4,
   "metadata": {},
   "outputs": [],
   "source": [
    "import pandas as pd\n",
    "import numpy as np\n",
    "from sklearn.model_selection import cross_val_score, train_test_split\n",
    "from xgboost import XGBClassifier\n",
    "from catboost import CatBoostClassifier"
   ]
  },
  {
   "cell_type": "code",
   "execution_count": 5,
   "metadata": {
    "scrolled": true
   },
   "outputs": [
    {
     "name": "stdout",
     "output_type": "stream",
     "text": [
      "['last_evaluation', 'number_project', 'average_montly_hours', 'time_spend_company', 'Work_accident', 'promotion_last_5years']\n"
     ]
    }
   ],
   "source": [
    "data = pd.read_csv('HR.csv')\n",
    "\n",
    "target = 'left'\n",
    "features = [c for c in data if c != target]\n",
    "print(features)\n",
    "\n",
    "X, y = data[features], data[target]"
   ]
  },
  {
   "cell_type": "markdown",
   "metadata": {},
   "source": [
    "Качество классификации решающим деревом с настройками по-умолчанию:"
   ]
  },
  {
   "cell_type": "code",
   "execution_count": 10,
   "metadata": {},
   "outputs": [
    {
     "name": "stderr",
     "output_type": "stream",
     "text": [
      "/home/tylorn/envs/dmia/lib/python3.6/site-packages/sklearn/preprocessing/label.py:151: DeprecationWarning: The truth value of an empty array is ambiguous. Returning False, but in future this will result in an error. Use `array.size > 0` to check that an array is not empty.\n",
      "  if diff:\n",
      "/home/tylorn/envs/dmia/lib/python3.6/site-packages/sklearn/preprocessing/label.py:151: DeprecationWarning: The truth value of an empty array is ambiguous. Returning False, but in future this will result in an error. Use `array.size > 0` to check that an array is not empty.\n",
      "  if diff:\n"
     ]
    },
    {
     "name": "stdout",
     "output_type": "stream",
     "text": [
      "XGBClassifier: 0.779121224244849\n"
     ]
    },
    {
     "name": "stderr",
     "output_type": "stream",
     "text": [
      "/home/tylorn/envs/dmia/lib/python3.6/site-packages/sklearn/preprocessing/label.py:151: DeprecationWarning: The truth value of an empty array is ambiguous. Returning False, but in future this will result in an error. Use `array.size > 0` to check that an array is not empty.\n",
      "  if diff:\n"
     ]
    }
   ],
   "source": [
    "print(\"XGBClassifier:\", cross_val_score(XGBClassifier(verbose=False), X, y).mean())"
   ]
  },
  {
   "cell_type": "code",
   "execution_count": 11,
   "metadata": {},
   "outputs": [
    {
     "name": "stdout",
     "output_type": "stream",
     "text": [
      "CatBoostClassifier: 0.7775852903914116\n"
     ]
    }
   ],
   "source": [
    "print(\"CatBoostClassifier:\", cross_val_score(CatBoostClassifier(verbose=False), X, y).mean())"
   ]
  },
  {
   "cell_type": "markdown",
   "metadata": {},
   "source": [
    "## Опциональное задание\n",
    "Поиграйтесь с основными параметрами алгоритмов, чтобы максимизировать качество"
   ]
  },
  {
   "cell_type": "code",
   "execution_count": null,
   "metadata": {
    "collapsed": true
   },
   "outputs": [],
   "source": []
  }
 ],
 "metadata": {
  "anaconda-cloud": {},
  "kernelspec": {
   "display_name": "dmia",
   "language": "python",
   "name": "dmia"
  },
  "language_info": {
   "codemirror_mode": {
    "name": "ipython",
    "version": 3
   },
   "file_extension": ".py",
   "mimetype": "text/x-python",
   "name": "python",
   "nbconvert_exporter": "python",
   "pygments_lexer": "ipython3",
   "version": "3.6.6"
  }
 },
 "nbformat": 4,
 "nbformat_minor": 1
}
