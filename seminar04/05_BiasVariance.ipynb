{
 "cells": [
  {
   "cell_type": "markdown",
   "metadata": {},
   "source": [
    "# Bias Variance"
   ]
  },
  {
   "cell_type": "markdown",
   "metadata": {},
   "source": [
    "![title](ml_bias_variance.png)"
   ]
  },
  {
   "cell_type": "markdown",
   "metadata": {},
   "source": [
    "Мы не будем выписывать строгие формулы, но попробуем объяснить идею этих понятий.\n",
    "\n",
    "Пусть у нас есть алгоритм обучения, который по данным может создать модель.\n",
    "\n",
    "Ошибка этих моделей может быть разложена на три части:\n",
    "* **Noise** – шум данных, не предсказуем, теоретический минимум ошибки\n",
    "* **Bias** – смещение, на сколько хорошо работает средний алгоритм. Средний алгоритм это \"возьмём случайные данные, обучим алгоритм, сделаем предсказания\", **Bias** – это ошибка средних предсказаний.\n",
    "* **Variance** – разброс, на сколько устойчиво работает алгоритм. Опять же \"возьмём случайные данные, обучим алгоритм, сделаем предсказания\", **Variance** – это разрос этих предсказаний."
   ]
  },
  {
   "cell_type": "markdown",
   "metadata": {},
   "source": [
    "# Бустинг и Бэггинг в терминах Bias и Variance"
   ]
  },
  {
   "cell_type": "markdown",
   "metadata": {},
   "source": [
    "Как вы думаете на какую составляющую Бустинг и Бэггинг влияют, а на какую нет?"
   ]
  },
  {
   "cell_type": "code",
   "execution_count": 15,
   "metadata": {},
   "outputs": [],
   "source": [
    "import pandas as pd\n",
    "import numpy as np\n",
    "from sklearn.model_selection import cross_val_score, train_test_split\n",
    "from xgboost import XGBRegressor\n",
    "from catboost import CatBoostRegressor\n",
    "from sklearn.ensemble import RandomForestRegressor\n",
    "from sklearn.tree import DecisionTreeRegressor\n",
    "from sklearn.linear_model import LinearRegression"
   ]
  },
  {
   "cell_type": "code",
   "execution_count": 2,
   "metadata": {},
   "outputs": [],
   "source": [
    "import warnings\n",
    "warnings.filterwarnings('ignore')"
   ]
  },
  {
   "cell_type": "code",
   "execution_count": 3,
   "metadata": {
    "scrolled": true
   },
   "outputs": [
    {
     "name": "stdout",
     "output_type": "stream",
     "text": [
      "['last_evaluation', 'number_project', 'average_montly_hours', 'time_spend_company', 'Work_accident', 'promotion_last_5years']\n"
     ]
    }
   ],
   "source": [
    "data = pd.read_csv('HR.csv')\n",
    "\n",
    "target = 'left'\n",
    "features = [c for c in data if c != target]\n",
    "print(features)\n",
    "\n",
    "X, y = np.array(data[features]), np.array(data[target])"
   ]
  },
  {
   "cell_type": "code",
   "execution_count": 4,
   "metadata": {},
   "outputs": [],
   "source": [
    "X_train, X_test, y_train, y_test = train_test_split(X, y)"
   ]
  },
  {
   "cell_type": "code",
   "execution_count": 5,
   "metadata": {},
   "outputs": [],
   "source": [
    "def sample_model(seed, model):\n",
    "    random_gen = np.random.RandomState(seed)\n",
    "    indices = random_gen.choice(len(y_train), size=len(y_train), replace=True)\n",
    "    model.fit(X_train[indices, :], y_train[indices])\n",
    "    return model\n",
    "\n",
    "def estimate_bias_variance(model, iters_count=100):\n",
    "    y_preds = []\n",
    "    for seed in range(iters_count):\n",
    "        model = sample_model(seed, model)\n",
    "        y_preds.append(model.predict(X_test))\n",
    "    y_preds = np.array(y_preds)\n",
    "    \n",
    "    print('Bias:', np.mean((y_test - y_preds.mean(axis=0)) ** 2))\n",
    "    print('Variance:', y_preds.std(axis=0).mean())"
   ]
  },
  {
   "cell_type": "code",
   "execution_count": 6,
   "metadata": {},
   "outputs": [
    {
     "name": "stdout",
     "output_type": "stream",
     "text": [
      "Bias: 0.221637100837659\n",
      "Variance: 0.010670490556716294\n"
     ]
    }
   ],
   "source": [
    "estimate_bias_variance(LinearRegression())"
   ]
  },
  {
   "cell_type": "code",
   "execution_count": null,
   "metadata": {},
   "outputs": [],
   "source": []
  },
  {
   "cell_type": "code",
   "execution_count": 7,
   "metadata": {},
   "outputs": [
    {
     "name": "stdout",
     "output_type": "stream",
     "text": [
      "Bias: 0.16922565195887232\n",
      "Variance: 0.04012902050067083\n"
     ]
    }
   ],
   "source": [
    "estimate_bias_variance(DecisionTreeRegressor(max_depth=5))"
   ]
  },
  {
   "cell_type": "code",
   "execution_count": 8,
   "metadata": {},
   "outputs": [
    {
     "name": "stdout",
     "output_type": "stream",
     "text": [
      "Bias: 0.16626637714593603\n",
      "Variance: 0.11381880012416418\n"
     ]
    }
   ],
   "source": [
    "estimate_bias_variance(DecisionTreeRegressor(max_depth=10))"
   ]
  },
  {
   "cell_type": "code",
   "execution_count": 9,
   "metadata": {},
   "outputs": [
    {
     "name": "stdout",
     "output_type": "stream",
     "text": [
      "Bias: 0.17324908974181663\n",
      "Variance: 0.21381985964171496\n"
     ]
    }
   ],
   "source": [
    "estimate_bias_variance(DecisionTreeRegressor(max_depth=15))"
   ]
  },
  {
   "cell_type": "code",
   "execution_count": 10,
   "metadata": {},
   "outputs": [
    {
     "name": "stdout",
     "output_type": "stream",
     "text": [
      "Bias: 0.19912198252892632\n",
      "Variance: 0.32234001952881103\n"
     ]
    }
   ],
   "source": [
    "estimate_bias_variance(DecisionTreeRegressor(max_depth=None))"
   ]
  },
  {
   "cell_type": "code",
   "execution_count": null,
   "metadata": {},
   "outputs": [],
   "source": []
  },
  {
   "cell_type": "code",
   "execution_count": 11,
   "metadata": {},
   "outputs": [
    {
     "name": "stdout",
     "output_type": "stream",
     "text": [
      "Bias: 0.18753342962384387\n",
      "Variance: 0.3540485777541925\n"
     ]
    }
   ],
   "source": [
    "estimate_bias_variance(RandomForestRegressor(n_estimators=1, random_state=42))"
   ]
  },
  {
   "cell_type": "code",
   "execution_count": 12,
   "metadata": {},
   "outputs": [
    {
     "name": "stdout",
     "output_type": "stream",
     "text": [
      "Bias: 0.18697729299866533\n",
      "Variance: 0.17074998023991847\n"
     ]
    }
   ],
   "source": [
    "estimate_bias_variance(RandomForestRegressor(n_estimators=10, random_state=42))"
   ]
  },
  {
   "cell_type": "code",
   "execution_count": 13,
   "metadata": {},
   "outputs": [
    {
     "name": "stdout",
     "output_type": "stream",
     "text": [
      "Bias: 0.18693070199034895\n",
      "Variance: 0.14097370973547677\n"
     ]
    }
   ],
   "source": [
    "estimate_bias_variance(RandomForestRegressor(n_estimators=50, random_state=42))"
   ]
  },
  {
   "cell_type": "code",
   "execution_count": null,
   "metadata": {},
   "outputs": [],
   "source": []
  },
  {
   "cell_type": "code",
   "execution_count": 16,
   "metadata": {},
   "outputs": [
    {
     "name": "stdout",
     "output_type": "stream",
     "text": [
      "Bias: 0.23451946472392102\n",
      "Variance: 0.022801744\n"
     ]
    }
   ],
   "source": [
    "estimate_bias_variance(XGBRegressor(n_estimators=1, max_depth=20))"
   ]
  },
  {
   "cell_type": "code",
   "execution_count": 17,
   "metadata": {},
   "outputs": [
    {
     "name": "stdout",
     "output_type": "stream",
     "text": [
      "Bias: 0.2341107071773297\n",
      "Variance: 0.010385236\n"
     ]
    }
   ],
   "source": [
    "estimate_bias_variance(XGBRegressor(n_estimators=1, max_depth=10))"
   ]
  },
  {
   "cell_type": "code",
   "execution_count": 18,
   "metadata": {},
   "outputs": [
    {
     "name": "stdout",
     "output_type": "stream",
     "text": [
      "Bias: 0.23507719247660752\n",
      "Variance: 0.003943091\n"
     ]
    }
   ],
   "source": [
    "estimate_bias_variance(XGBRegressor(n_estimators=1, max_depth=5))"
   ]
  },
  {
   "cell_type": "code",
   "execution_count": 19,
   "metadata": {},
   "outputs": [
    {
     "name": "stdout",
     "output_type": "stream",
     "text": [
      "Bias: 0.1783928390733272\n",
      "Variance: 0.018791953\n"
     ]
    }
   ],
   "source": [
    "estimate_bias_variance(XGBRegressor(n_estimators=10, max_depth=5))"
   ]
  },
  {
   "cell_type": "code",
   "execution_count": 20,
   "metadata": {},
   "outputs": [
    {
     "name": "stdout",
     "output_type": "stream",
     "text": [
      "Bias: 0.1666821804160293\n",
      "Variance: 0.056974187\n"
     ]
    }
   ],
   "source": [
    "estimate_bias_variance(XGBRegressor(n_estimators=100, max_depth=5))"
   ]
  },
  {
   "cell_type": "code",
   "execution_count": null,
   "metadata": {},
   "outputs": [],
   "source": []
  },
  {
   "cell_type": "code",
   "execution_count": 21,
   "metadata": {},
   "outputs": [
    {
     "name": "stdout",
     "output_type": "stream",
     "text": [
      "Bias: 0.332715163680473\n",
      "Variance: 0.0007108716806930628\n"
     ]
    }
   ],
   "source": [
    "estimate_bias_variance(CatBoostRegressor(n_estimators=1, max_depth=6, verbose=False))"
   ]
  },
  {
   "cell_type": "code",
   "execution_count": 22,
   "metadata": {},
   "outputs": [
    {
     "name": "stdout",
     "output_type": "stream",
     "text": [
      "Bias: 0.26696809804301386\n",
      "Variance: 0.0054989897738102495\n"
     ]
    }
   ],
   "source": [
    "estimate_bias_variance(CatBoostRegressor(n_estimators=10, max_depth=6, verbose=False))"
   ]
  },
  {
   "cell_type": "code",
   "execution_count": 23,
   "metadata": {},
   "outputs": [
    {
     "name": "stdout",
     "output_type": "stream",
     "text": [
      "Bias: 0.17119445116377977\n",
      "Variance: 0.019270308684423625\n"
     ]
    }
   ],
   "source": [
    "estimate_bias_variance(CatBoostRegressor(n_estimators=100, max_depth=6, verbose=False))"
   ]
  },
  {
   "cell_type": "code",
   "execution_count": null,
   "metadata": {},
   "outputs": [],
   "source": []
  }
 ],
 "metadata": {
  "anaconda-cloud": {},
  "kernelspec": {
   "display_name": "dmia",
   "language": "python",
   "name": "dmia"
  },
  "language_info": {
   "codemirror_mode": {
    "name": "ipython",
    "version": 3
   },
   "file_extension": ".py",
   "mimetype": "text/x-python",
   "name": "python",
   "nbconvert_exporter": "python",
   "pygments_lexer": "ipython3",
   "version": "3.6.6"
  }
 },
 "nbformat": 4,
 "nbformat_minor": 1
}
