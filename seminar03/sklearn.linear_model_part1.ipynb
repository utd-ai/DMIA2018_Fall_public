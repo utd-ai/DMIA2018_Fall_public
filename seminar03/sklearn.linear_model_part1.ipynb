{
 "cells": [
  {
   "cell_type": "markdown",
   "metadata": {},
   "source": [
    "# Sklearn\n",
    "Материал взят из репозитория https://github.com/emeli-dral/sklearn_intro"
   ]
  },
  {
   "cell_type": "markdown",
   "metadata": {},
   "source": [
    "## sklearn.linear_model"
   ]
  },
  {
   "cell_type": "markdown",
   "metadata": {},
   "source": [
    "**linear_model:**\n",
    "* RidgeClassifier\n",
    "* SGDClassifier\n",
    "* SGDRegressor\n",
    "* LinearRegression\n",
    "* LogisticRegression\n",
    "* Lasso\n",
    "* etc"
   ]
  },
  {
   "cell_type": "markdown",
   "metadata": {},
   "source": [
    "документация: http://scikit-learn.org/stable/modules/classes.html#module-sklearn.linear_model\n",
    "\n",
    "примеры: http://scikit-learn.org/stable/modules/linear_model.html#linear-model"
   ]
  },
  {
   "cell_type": "code",
   "execution_count": 1,
   "metadata": {},
   "outputs": [],
   "source": [
    "from matplotlib.colors import ListedColormap\n",
    "from sklearn import model_selection, datasets, linear_model, metrics\n",
    "\n",
    "import numpy as np"
   ]
  },
  {
   "cell_type": "code",
   "execution_count": 2,
   "metadata": {},
   "outputs": [
    {
     "name": "stdout",
     "output_type": "stream",
     "text": [
      "Populating the interactive namespace from numpy and matplotlib\n"
     ]
    }
   ],
   "source": [
    "%pylab inline"
   ]
  },
  {
   "cell_type": "code",
   "execution_count": 3,
   "metadata": {},
   "outputs": [],
   "source": [
    "def make_meshgrid(x, y, h=.02):\n",
    "    \"\"\"Create a mesh of points to plot in\n",
    "\n",
    "    Parameters\n",
    "    ----------\n",
    "    x: data to base x-axis meshgrid on\n",
    "    y: data to base y-axis meshgrid on\n",
    "    h: stepsize for meshgrid, optional\n",
    "\n",
    "    Returns\n",
    "    -------\n",
    "    xx, yy : ndarray\n",
    "    \"\"\"\n",
    "    x_min, x_max = x.min() - 1, x.max() + 1\n",
    "    y_min, y_max = y.min() - 1, y.max() + 1\n",
    "    xx, yy = np.meshgrid(np.arange(x_min, x_max, h),\n",
    "                         np.arange(y_min, y_max, h))\n",
    "    return xx, yy\n",
    "\n",
    "\n",
    "def plot_contours(ax, clf, xx, yy, **params):\n",
    "    \"\"\"Plot the decision boundaries for a classifier.\n",
    "\n",
    "    Parameters\n",
    "    ----------\n",
    "    ax: matplotlib axes object\n",
    "    clf: a classifier\n",
    "    xx: meshgrid ndarray\n",
    "    yy: meshgrid ndarray\n",
    "    params: dictionary of params to pass to contourf, optional\n",
    "    \"\"\"\n",
    "    Z = clf.predict(np.c_[xx.ravel(), yy.ravel()])\n",
    "    Z = Z.reshape(xx.shape)\n",
    "    out = ax.contourf(xx, yy, Z, **params)\n",
    "    return out"
   ]
  },
  {
   "cell_type": "markdown",
   "metadata": {},
   "source": [
    "### Генерация данных"
   ]
  },
  {
   "cell_type": "code",
   "execution_count": 4,
   "metadata": {},
   "outputs": [],
   "source": [
    "blobs = datasets.make_blobs(centers=2, cluster_std=3.5, random_state=1)"
   ]
  },
  {
   "cell_type": "code",
   "execution_count": 5,
   "metadata": {},
   "outputs": [
    {
     "data": {
      "text/plain": [
       "array([0, 1, 0, 0, 1, 1, 1, 1, 0, 0, 1, 0, 1, 0, 1, 1, 1, 0, 0, 1, 1, 1,\n",
       "       1, 0, 0, 1, 1, 0, 0, 1, 0, 0, 1, 0, 1, 1, 0, 1, 1, 1, 1, 1, 0, 1,\n",
       "       0, 1, 0, 0, 0, 0, 0, 1, 1, 1, 0, 1, 0, 1, 0, 0, 0, 1, 1, 1, 1, 1,\n",
       "       0, 1, 0, 0, 1, 1, 1, 0, 0, 0, 1, 1, 0, 0, 0, 1, 0, 1, 0, 0, 0, 0,\n",
       "       0, 0, 1, 0, 0, 0, 1, 1, 1, 0, 1, 0])"
      ]
     },
     "execution_count": 5,
     "metadata": {},
     "output_type": "execute_result"
    }
   ],
   "source": [
    "blobs[1]"
   ]
  },
  {
   "cell_type": "code",
   "execution_count": 6,
   "metadata": {},
   "outputs": [
    {
     "data": {
      "text/plain": [
       "<matplotlib.collections.PathCollection at 0x1070fdd30>"
      ]
     },
     "execution_count": 6,
     "metadata": {},
     "output_type": "execute_result"
    },
    {
     "data": {
      "image/png": "[encoded data removed]",
      "text/plain": [
       "<Figure size 576x576 with 1 Axes>"
      ]
     },
     "metadata": {
      "needs_background": "light"
     },
     "output_type": "display_data"
    }
   ],
   "source": [
    "colors = ListedColormap(['red', 'blue'])\n",
    "\n",
    "pylab.figure(figsize(8, 8))\n",
    "pylab.scatter(list(map(lambda x: x[0], blobs[0])), \n",
    "              list(map(lambda x: x[1], blobs[0])), \n",
    "              c = blobs[1], \n",
    "              cmap = colors,\n",
    "              s=100)"
   ]
  },
  {
   "cell_type": "code",
   "execution_count": 7,
   "metadata": {},
   "outputs": [],
   "source": [
    "train_data, test_data, train_labels, test_labels = model_selection.train_test_split(blobs[0],\n",
    "                                                                                    blobs[1], \n",
    "                                                                                    test_size=0.3,\n",
    "                                                                                    random_state=1)"
   ]
  },
  {
   "cell_type": "markdown",
   "metadata": {},
   "source": [
    "### Линейная классификация"
   ]
  },
  {
   "cell_type": "markdown",
   "metadata": {},
   "source": [
    "#### RidgeClassifier"
   ]
  },
  {
   "cell_type": "code",
   "execution_count": 8,
   "metadata": {},
   "outputs": [],
   "source": [
    "#создание объекта - классификатора\n",
    "ridge_classifier = linear_model.RidgeClassifier(random_state=1)"
   ]
  },
  {
   "cell_type": "code",
   "execution_count": 9,
   "metadata": {},
   "outputs": [
    {
     "data": {
      "text/plain": [
       "RidgeClassifier(alpha=1.0, class_weight=None, copy_X=True, fit_intercept=True,\n",
       "        max_iter=None, normalize=False, random_state=1, solver='auto',\n",
       "        tol=0.001)"
      ]
     },
     "execution_count": 9,
     "metadata": {},
     "output_type": "execute_result"
    }
   ],
   "source": [
    "#обучение классификатора\n",
    "ridge_classifier.fit(train_data, train_labels)"
   ]
  },
  {
   "cell_type": "code",
   "execution_count": 10,
   "metadata": {},
   "outputs": [],
   "source": [
    "#применение обученного классификатора\n",
    "ridge_predictions = ridge_classifier.predict(test_data)"
   ]
  },
  {
   "cell_type": "code",
   "execution_count": 11,
   "metadata": {},
   "outputs": [
    {
     "name": "stdout",
     "output_type": "stream",
     "text": [
      "[0 0 0 1 0 0 0 0 0 1 0 1 0 1 1 1 0 0 0 1 0 0 0 1 1 1 1 0 0 1]\n"
     ]
    }
   ],
   "source": [
    "print(test_labels)"
   ]
  },
  {
   "cell_type": "code",
   "execution_count": 12,
   "metadata": {},
   "outputs": [
    {
     "name": "stdout",
     "output_type": "stream",
     "text": [
      "[0 0 0 1 0 0 0 0 0 1 0 1 0 1 1 1 0 0 0 1 1 0 0 1 1 1 1 0 0 1]\n"
     ]
    }
   ],
   "source": [
    "print(ridge_predictions)"
   ]
  },
  {
   "cell_type": "code",
   "execution_count": 13,
   "metadata": {},
   "outputs": [
    {
     "data": {
      "text/plain": [
       "0.9666666666666667"
      ]
     },
     "execution_count": 13,
     "metadata": {},
     "output_type": "execute_result"
    }
   ],
   "source": [
    "#оценка качества классификации\n",
    "metrics.accuracy_score(test_labels, ridge_predictions)"
   ]
  },
  {
   "cell_type": "code",
   "execution_count": 14,
   "metadata": {},
   "outputs": [
    {
     "name": "stdout",
     "output_type": "stream",
     "text": [
      "Intercept [-0.50073421]\n",
      "Coefficients [[-0.11164518 -0.0925014 ]]\n"
     ]
    }
   ],
   "source": [
    "print('Intercept', ridge_classifier.intercept_ )\n",
    "print('Coefficients', ridge_classifier.coef_)"
   ]
  },
  {
   "cell_type": "markdown",
   "metadata": {},
   "source": [
    "####  Нарисуем границу принятия решения нашим классификатором"
   ]
  },
  {
   "cell_type": "code",
   "execution_count": 15,
   "metadata": {},
   "outputs": [
    {
     "data": {
      "text/plain": [
       "<matplotlib.collections.PathCollection at 0x1072de320>"
      ]
     },
     "execution_count": 15,
     "metadata": {},
     "output_type": "execute_result"
    },
    {
     "data": {
      "image/png": "[encoded data removed]",
      "text/plain": [
       "<Figure size 576x576 with 1 Axes>"
      ]
     },
     "metadata": {
      "needs_background": "light"
     },
     "output_type": "display_data"
    }
   ],
   "source": [
    "xx, yy = make_meshgrid(blobs[0][:, 0], blobs[0][:, 1])\n",
    "fig, sub = plt.subplots()\n",
    "plot_contours(sub, ridge_classifier, xx, yy)\n",
    "pylab.scatter(list(map(lambda x: x[0], blobs[0])), \n",
    "              list(map(lambda x: x[1], blobs[0])), \n",
    "              c = blobs[1], \n",
    "              cmap = colors,\n",
    "              s=100)"
   ]
  },
  {
   "cell_type": "markdown",
   "metadata": {},
   "source": [
    "#### LogisticRegression"
   ]
  },
  {
   "cell_type": "code",
   "execution_count": 16,
   "metadata": {},
   "outputs": [],
   "source": [
    "log_regressor = linear_model.LogisticRegression(random_state=0)"
   ]
  },
  {
   "cell_type": "code",
   "execution_count": 17,
   "metadata": {},
   "outputs": [
    {
     "data": {
      "text/plain": [
       "LogisticRegression(C=1.0, class_weight=None, dual=False, fit_intercept=True,\n",
       "          intercept_scaling=1, max_iter=100, multi_class='ovr', n_jobs=1,\n",
       "          penalty='l2', random_state=0, solver='liblinear', tol=0.0001,\n",
       "          verbose=0, warm_start=False)"
      ]
     },
     "execution_count": 17,
     "metadata": {},
     "output_type": "execute_result"
    }
   ],
   "source": [
    "log_regressor.fit(train_data, train_labels)"
   ]
  },
  {
   "cell_type": "code",
   "execution_count": 18,
   "metadata": {},
   "outputs": [],
   "source": [
    "lr_predictions = log_regressor.predict(test_data)"
   ]
  },
  {
   "cell_type": "code",
   "execution_count": 19,
   "metadata": {},
   "outputs": [],
   "source": [
    "lr_proba_predictions = log_regressor.predict_proba(test_data)"
   ]
  },
  {
   "cell_type": "code",
   "execution_count": 20,
   "metadata": {},
   "outputs": [
    {
     "name": "stdout",
     "output_type": "stream",
     "text": [
      "[0 0 0 1 0 0 0 0 0 1 0 1 0 1 1 1 0 0 0 1 0 0 0 1 1 1 1 0 0 1]\n"
     ]
    }
   ],
   "source": [
    "print(test_labels)"
   ]
  },
  {
   "cell_type": "code",
   "execution_count": 21,
   "metadata": {},
   "outputs": [
    {
     "name": "stdout",
     "output_type": "stream",
     "text": [
      "[0 0 0 1 0 1 0 0 0 1 0 1 0 1 1 1 1 0 1 1 1 0 0 1 1 1 1 0 0 1]\n"
     ]
    }
   ],
   "source": [
    "print(lr_predictions)"
   ]
  },
  {
   "cell_type": "code",
   "execution_count": 22,
   "metadata": {},
   "outputs": [
    {
     "name": "stdout",
     "output_type": "stream",
     "text": [
      "[[9.99964463e-01 3.55366566e-05]\n",
      " [6.59642915e-01 3.40357085e-01]\n",
      " [7.01850415e-01 2.98149585e-01]\n",
      " [4.73762142e-05 9.99952624e-01]\n",
      " [9.29085437e-01 7.09145630e-02]\n",
      " [4.01441241e-01 5.98558759e-01]\n",
      " [9.99279239e-01 7.20760967e-04]\n",
      " [9.97629335e-01 2.37066452e-03]\n",
      " [9.92246873e-01 7.75312694e-03]\n",
      " [3.08558342e-03 9.96914417e-01]\n",
      " [9.87109827e-01 1.28901728e-02]\n",
      " [8.29682548e-05 9.99917032e-01]\n",
      " [9.70073741e-01 2.99262589e-02]\n",
      " [8.71244984e-04 9.99128755e-01]\n",
      " [1.98341812e-05 9.99980166e-01]\n",
      " [3.57517290e-06 9.99996425e-01]\n",
      " [3.86966857e-01 6.13033143e-01]\n",
      " [9.87062765e-01 1.29372353e-02]\n",
      " [3.75421731e-01 6.24578269e-01]\n",
      " [3.01514496e-06 9.99996985e-01]\n",
      " [1.60068448e-01 8.39931552e-01]\n",
      " [9.99675824e-01 3.24175856e-04]\n",
      " [9.98353859e-01 1.64614060e-03]\n",
      " [1.38720505e-02 9.86127949e-01]\n",
      " [1.19762927e-05 9.99988024e-01]\n",
      " [7.53815726e-05 9.99924618e-01]\n",
      " [9.13128097e-03 9.90868719e-01]\n",
      " [9.70277465e-01 2.97225346e-02]\n",
      " [9.99238510e-01 7.61490100e-04]\n",
      " [2.30124217e-05 9.99976988e-01]]\n"
     ]
    }
   ],
   "source": [
    "print(lr_proba_predictions)"
   ]
  },
  {
   "cell_type": "code",
   "execution_count": 23,
   "metadata": {},
   "outputs": [
    {
     "name": "stdout",
     "output_type": "stream",
     "text": [
      "0.8888888888888888\n"
     ]
    }
   ],
   "source": [
    "print(metrics.roc_auc_score(test_labels, lr_predictions))"
   ]
  },
  {
   "cell_type": "code",
   "execution_count": 24,
   "metadata": {},
   "outputs": [
    {
     "name": "stdout",
     "output_type": "stream",
     "text": [
      "1.0\n"
     ]
    }
   ],
   "source": [
    "print(metrics.roc_auc_score(test_labels, lr_proba_predictions[:,1]))"
   ]
  },
  {
   "cell_type": "code",
   "execution_count": 25,
   "metadata": {},
   "outputs": [
    {
     "name": "stdout",
     "output_type": "stream",
     "text": [
      "0.8666666666666667\n"
     ]
    }
   ],
   "source": [
    "print(metrics.accuracy_score(test_labels, lr_predictions))"
   ]
  },
  {
   "cell_type": "code",
   "execution_count": 26,
   "metadata": {},
   "outputs": [
    {
     "name": "stdout",
     "output_type": "stream",
     "text": [
      "0.9666666666666667\n"
     ]
    }
   ],
   "source": [
    "print(metrics.accuracy_score(test_labels, ridge_predictions))"
   ]
  },
  {
   "cell_type": "code",
   "execution_count": 27,
   "metadata": {},
   "outputs": [
    {
     "name": "stdout",
     "output_type": "stream",
     "text": [
      "Intercept [-1.79188992]\n",
      "Coefficient [[-0.78280739 -0.68391652]]\n"
     ]
    }
   ],
   "source": [
    "print('Intercept', log_regressor.intercept_ )\n",
    "print('Coefficient', log_regressor.coef_)"
   ]
  },
  {
   "cell_type": "markdown",
   "metadata": {},
   "source": [
    "####  Нарисуем границу принятия решения нашим классификатором"
   ]
  },
  {
   "cell_type": "code",
   "execution_count": 28,
   "metadata": {},
   "outputs": [
    {
     "data": {
      "text/plain": [
       "<matplotlib.collections.PathCollection at 0x101ac1828>"
      ]
     },
     "execution_count": 28,
     "metadata": {},
     "output_type": "execute_result"
    },
    {
     "data": {
      "image/png": "[encoded data removed]",
      "text/plain": [
       "<Figure size 576x576 with 1 Axes>"
      ]
     },
     "metadata": {
      "needs_background": "light"
     },
     "output_type": "display_data"
    }
   ],
   "source": [
    "xx, yy = make_meshgrid(blobs[0][:, 0], blobs[0][:, 1])\n",
    "fig, sub = plt.subplots()\n",
    "plot_contours(sub, log_regressor, xx, yy)\n",
    "pylab.scatter(list(map(lambda x: x[0], blobs[0])), \n",
    "              list(map(lambda x: x[1], blobs[0])), \n",
    "              c = blobs[1], \n",
    "              cmap = colors,\n",
    "              s=100)"
   ]
  },
  {
   "cell_type": "markdown",
   "metadata": {},
   "source": [
    "### Оценка качества по cross-validation"
   ]
  },
  {
   "cell_type": "markdown",
   "metadata": {},
   "source": [
    "#### cross_val_score"
   ]
  },
  {
   "cell_type": "code",
   "execution_count": 29,
   "metadata": {},
   "outputs": [],
   "source": [
    "ridge_scoring = model_selection.cross_val_score(ridge_classifier,\n",
    "                                                blobs[0],\n",
    "                                                blobs[1],\n",
    "                                                scoring='accuracy',\n",
    "                                                cv=10)"
   ]
  },
  {
   "cell_type": "code",
   "execution_count": 30,
   "metadata": {},
   "outputs": [],
   "source": [
    "lr_scoring = model_selection.cross_val_score(log_regressor,\n",
    "                                             blobs[0],\n",
    "                                             blobs[1],\n",
    "                                             scoring='accuracy',\n",
    "                                             cv=10)"
   ]
  },
  {
   "cell_type": "code",
   "execution_count": 31,
   "metadata": {},
   "outputs": [
    {
     "data": {
      "text/plain": [
       "array([1. , 1. , 1. , 1. , 1. , 1. , 0.9, 1. , 0.9, 0.9])"
      ]
     },
     "execution_count": 31,
     "metadata": {},
     "output_type": "execute_result"
    }
   ],
   "source": [
    "ridge_scoring"
   ]
  },
  {
   "cell_type": "code",
   "execution_count": 32,
   "metadata": {},
   "outputs": [
    {
     "data": {
      "text/plain": [
       "array([0.8, 1. , 1. , 1. , 1. , 1. , 0.8, 1. , 0.9, 0.9])"
      ]
     },
     "execution_count": 32,
     "metadata": {},
     "output_type": "execute_result"
    }
   ],
   "source": [
    "lr_scoring"
   ]
  },
  {
   "cell_type": "code",
   "execution_count": 33,
   "metadata": {},
   "outputs": [
    {
     "name": "stdout",
     "output_type": "stream",
     "text": [
      "Ridge mean:0.9700000000000001, max:1.0, min:0.9, std:0.045826\n"
     ]
    }
   ],
   "source": [
    "print('Ridge mean:{}, max:{}, min:{}, std:{:2f}'.format(ridge_scoring.mean(),\n",
    "                                                        ridge_scoring.max(),\n",
    "                                                        ridge_scoring.min(),\n",
    "                                                        ridge_scoring.std()))"
   ]
  },
  {
   "cell_type": "code",
   "execution_count": 34,
   "metadata": {},
   "outputs": [
    {
     "name": "stdout",
     "output_type": "stream",
     "text": [
      "Log mean:0.9400000000000001, max:1.0, min:0.8, std:0.07999999999999999\n"
     ]
    }
   ],
   "source": [
    "print('Log mean:{}, max:{}, min:{}, std:{}'.format(lr_scoring.mean(),\n",
    "                                                   lr_scoring.max(), \n",
    "                                                   lr_scoring.min(),\n",
    "                                                   lr_scoring.std()))"
   ]
  },
  {
   "cell_type": "markdown",
   "metadata": {},
   "source": [
    "#### cross_val_score с заданными scorer и cv_strategy"
   ]
  },
  {
   "cell_type": "code",
   "execution_count": 35,
   "metadata": {},
   "outputs": [],
   "source": [
    "scorer = metrics.make_scorer(metrics.accuracy_score)"
   ]
  },
  {
   "cell_type": "code",
   "execution_count": 36,
   "metadata": {},
   "outputs": [],
   "source": [
    "cv_strategy = model_selection.StratifiedShuffleSplit(n_splits=20,\n",
    "                                                     test_size=0.3,\n",
    "                                                     random_state=2)"
   ]
  },
  {
   "cell_type": "code",
   "execution_count": 37,
   "metadata": {},
   "outputs": [],
   "source": [
    "ridge_scoring = model_selection.cross_val_score(ridge_classifier,\n",
    "                                                blobs[0],\n",
    "                                                blobs[1],\n",
    "                                                scoring=scorer,\n",
    "                                                cv=cv_strategy.split(X=blobs[0], y=blobs[1]))"
   ]
  },
  {
   "cell_type": "code",
   "execution_count": 38,
   "metadata": {},
   "outputs": [],
   "source": [
    "lr_scoring = model_selection.cross_val_score(log_regressor,\n",
    "                                             blobs[0],\n",
    "                                             blobs[1],\n",
    "                                             scoring=scorer,\n",
    "                                             cv=cv_strategy.split(X=blobs[0], y=blobs[1]))"
   ]
  },
  {
   "cell_type": "code",
   "execution_count": 39,
   "metadata": {},
   "outputs": [
    {
     "name": "stdout",
     "output_type": "stream",
     "text": [
      "Ridge mean:0.958333333333333, max:1.0, min:0.9, std:0.02763853991962833\n"
     ]
    }
   ],
   "source": [
    "print('Ridge mean:{}, max:{}, min:{}, std:{}'.format(ridge_scoring.mean(),\n",
    "                                                     ridge_scoring.max(), \n",
    "                                                     ridge_scoring.min(),\n",
    "                                                     ridge_scoring.std()))"
   ]
  },
  {
   "cell_type": "code",
   "execution_count": 40,
   "metadata": {},
   "outputs": [
    {
     "name": "stdout",
     "output_type": "stream",
     "text": [
      "Log mean:0.9499999999999998, max:1.0, min:0.8666666666666667, std:0.03574601764921202\n"
     ]
    }
   ],
   "source": [
    "print('Log mean:{}, max:{}, min:{}, std:{}'.format(lr_scoring.mean(),\n",
    "                                                   lr_scoring.max(), \n",
    "                                                   lr_scoring.min(), \n",
    "                                                   lr_scoring.std()))"
   ]
  },
  {
   "cell_type": "code",
   "execution_count": null,
   "metadata": {},
   "outputs": [],
   "source": []
  }
 ],
 "metadata": {
  "kernelspec": {
   "display_name": "Python 2",
   "language": "python",
   "name": "python2"
  },
  "language_info": {
   "codemirror_mode": {
    "name": "ipython",
    "version": 3
   },
   "file_extension": ".py",
   "mimetype": "text/x-python",
   "name": "python",
   "nbconvert_exporter": "python",
   "pygments_lexer": "ipython3",
   "version": "3.6.6"
  }
 },
 "nbformat": 4,
 "nbformat_minor": 1
}
